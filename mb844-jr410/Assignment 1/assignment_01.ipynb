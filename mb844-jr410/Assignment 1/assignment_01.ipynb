{
 "cells": [
  {
   "cell_type": "markdown",
   "metadata": {
    "deletable": true,
    "editable": true
   },
   "source": [
    "# Assignment 1, Machine Learning Summer Term 2017, Uni Freiburg "
   ]
  },
  {
   "cell_type": "markdown",
   "metadata": {
    "deletable": true,
    "editable": true
   },
   "source": [
    "## Before you get started: set up ILIAS\n",
    "This first assignment mostly sets up the infrastructure we'll use in the rest of the course. Please execute the following steps:\n",
    "\n",
    "* Set up our virtual machine as described [here](http://www2.informatik.uni-freiburg.de/~vanrijn/ml2017/).\n",
    "* If you haven't already done so, please also set up ILIAS:\n",
    "    * Log in to [ILIAS](https://ilias.uni-freiburg.de) (using your RZ account + password for authentication).\n",
    "    * Download the input data for this assignment from ILIAS by opening the drop-down menu of assignment 1 in the [assignment folder](https://ilias.uni-freiburg.de/ilias.php?ref_id=773040&cmd=view&cmdClass=ilrepositorygui&cmdNode=ue&baseClass=ilRepositoryGUI) and unzip it to a new folder. This already contains all other notebooks referenced in this assignment.\n",
    "\n",
    "We recommend that you work on the exercises in groups of two or three.\n",
    "Once you have found your team partners, please inform us about your team by adding the RZ account names to this [list in the ILIAS wiki](https://ilias.uni-freiburg.de/ilias.php?ref_id=776818&page=Student_Teams&cmd=edit&cmdClass=ilwikipagegui&cmdNode=13c:pm:13f&baseClass=ilwikihandlergui). "
   ]
  },
  {
   "cell_type": "markdown",
   "metadata": {
    "deletable": true,
    "editable": true
   },
   "source": [
    "## Exercise 1: Make a forum post about a machine learning application \n",
    "\n",
    "To get into the habit of posting frequently, let's make a forum post in ILIAS right away:\n",
    "* Find an interesting application of machine learning, post a link to it and describe it in 2 sentences. \n",
    "* Please also feel free to comment on each others posts."
   ]
  },
  {
   "cell_type": "markdown",
   "metadata": {
    "deletable": true,
    "editable": true
   },
   "source": [
    "## Exercise 2: Go through our tutorial notebooks \n",
    "\n",
    "* Go through our introductory tutorial on Jupyter notebooks: [IntroductionToJupyterNotebooks.ipynb](https://ilias.uni-freiburg.de/ilias.php?ref_id=776804&cmd=view&cmdClass=ilrepositorygui&cmdNode=ue&baseClass=ilrepositorygui) (download from ILIAS)\n",
    "* Go through our introductory tutorial on data reading & plotting: [IntroductionToReadingAndPlottingData.ipynb](https://ilias.uni-freiburg.de/ilias.php?ref_id=776804&cmd=view&cmdClass=ilrepositorygui&cmdNode=ue&baseClass=ilrepositorygui) (download from ILIAS)"
   ]
  },
  {
   "cell_type": "markdown",
   "metadata": {
    "deletable": true,
    "editable": true
   },
   "source": [
    "## Exercise 3: Manual data analysis\n",
    "\n",
    "In this exercise, we'll use the Iris data set from our intro tutorial on data reading & plotting. We have prepared a fully functional Jupyter notebook [exercise_03.ipynb](https://ilias.uni-freiburg.de/ilias.php?ref_id=776804&cmd=view&cmdClass=ilrepositorygui&cmdNode=ue&baseClass=ilrepositorygui) (download from ILIAS) to let you focus on the machine learning part (But you can also do this exercise in a python script if you wish). \n",
    "\n",
    "The notebook contains of three section:\n",
    "1. reading the data\n",
    "2. classifying the data\n",
    "3. test the data on an unseen test set\n",
    "\n",
    "Our current implementation classifies each data point at random, it is your task to define a set of rules which improves upon this. You can use insights gathered in exercise 2 in order to come up with a useful set of rules."
   ]
  },
  {
   "cell_type": "markdown",
   "metadata": {
    "deletable": true,
    "editable": true
   },
   "source": [
    "## Exercise 4: Set up GitLab and submit the answer to the following questions\n",
    "Each team will have a private repository on our GitLab server with the name of the corresponding team members (or individual name if you work alone). There you will be able to submit your solution for each assignment as instructed below.\n",
    "\n",
    "### 4.1 Setup\n",
    "Register with our submission system GitLab (using the account that was emailed to you).\n",
    "Check out a working copy of your folder in the git repository of the course, and add your code\n",
    "to a new subdirectory `assignment-01`, and commit it.\n",
    "\n",
    "### 4.2 Submit your answer\n",
    "Multiply the following matrices. \n",
    "\n",
    "$$\\begin{array}{lcl}\n",
    "\\begin{bmatrix}\n",
    "  5 & 8 \\\\\n",
    "  2 & 1 \\\\\n",
    "  6 & 7\n",
    "\\end{bmatrix}\n",
    "&\n",
    "\\cdot\n",
    "&\n",
    "\\begin{bmatrix}\n",
    "  5 & 8 & 3 \\\\\n",
    "  2 & 1 & 9 \\\\\n",
    "\\end{bmatrix}\\\\\n",
    "\\end{array}$$\n",
    "\n",
    "Calculate the eigenvalues of the following matrix:\n",
    "$$\n",
    "\\begin{bmatrix}\n",
    "  1 & 2 \\\\\n",
    "  2 & 4 \\\\\n",
    "\\end{bmatrix}\n",
    "$$\n",
    "\n",
    "### 4.3. Submit feedback\n",
    "Also commit, in that subdirectory, a text file experiences.txt where you briefly describe your\n",
    "experiences with this first assignment and the corresponding lecture(s). As a minimum, say how\n",
    "much time you invested and if you had major problems, and if yes, where."
   ]
  },
  {
   "cell_type": "markdown",
   "metadata": {
    "collapsed": true,
    "deletable": true,
    "editable": true
   },
   "source": [
    "# General comments on the coding exercises\n",
    "\n",
    "These will be valid throughout the course.\n",
    "\n",
    "5. Make sure that you do not upload any \"by-products\" to our git (e.g., class files or executables or any stuff from your local environment). Also never ever upload large data files to our git; this is considered sin and will result in excommunication.\n",
    "6. When you encounter implementation problems proceed as follows. First do the obvious Google search: very often, this leads to a page describing exactly the problem you are having and the solution for it. Then search/read our forum (link on the Wiki) to see if someone has already asked a similar question. Then you are very welcome to ask a question on the forum yourself. In general:\n",
    "please ask before you spent a lot of time on minor implementation issues."
   ]
  }
 ],
 "metadata": {
  "kernelspec": {
   "display_name": "Python 3",
   "language": "python",
   "name": "python3"
  },
  "language_info": {
   "codemirror_mode": {
    "name": "ipython",
    "version": 3
   },
   "file_extension": ".py",
   "mimetype": "text/x-python",
   "name": "python",
   "nbconvert_exporter": "python",
   "pygments_lexer": "ipython3",
   "version": "3.5.2"
  }
 },
 "nbformat": 4,
 "nbformat_minor": 1
}
